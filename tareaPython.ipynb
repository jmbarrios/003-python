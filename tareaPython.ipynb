{
 "cells": [
  {
   "cell_type": "markdown",
   "id": "f36918ea-7c2c-4d8e-bfd2-b502875ad2e4",
   "metadata": {},
   "source": [
    "# Tarea `Python` básico"
   ]
  },
  {
   "cell_type": "markdown",
   "id": "7d973ac5-c158-4df0-9759-b32f05bb2528",
   "metadata": {},
   "source": [
    "## Problema 1\n",
    "El primer ejercicio consite en extraer el identificador de un registro que viene incluídon en una URL. Por ejemplo para el URL:\n",
    "\n",
    "```\n",
    "https://www.inaturalist.org/observations/80657883\n",
    "```\n",
    "\n",
    "se tendría que el identificador del registro debería de ser `80657883`. Escribir una función que dado una URL regrese el identificador del registro.\n",
    "\n",
    "### Extra\n",
    "Se sabe que todos los identificadores son con números por lo que es importante revisar que se cumpla está condición. En caso de que no se cumpla se debe de emitir un `TypeError` para informar de este error."
   ]
  },
  {
   "cell_type": "code",
   "execution_count": null,
   "id": "77d07098-1998-4254-8fc6-7ee27f0610a1",
   "metadata": {},
   "outputs": [],
   "source": [
    "# hw6003 NO BORRAR\n",
    "def obten_id(url):\n",
    "    \"\"\" obtiene el id del registro dada la url\n",
    "    \n",
    "    Parameters\n",
    "    ----------\n",
    "    url: str dirección de la paǵina de la observación\n",
    "    \n",
    "    Returns\n",
    "    -------\n",
    "    str id de la observación\n",
    "    \"\"\"\n",
    "    pass"
   ]
  },
  {
   "cell_type": "code",
   "execution_count": null,
   "id": "b60574c5-86ed-482a-80b8-1f9af65c1e13",
   "metadata": {},
   "outputs": [],
   "source": []
  },
  {
   "cell_type": "markdown",
   "id": "16e0210e-f570-4fce-8c49-2df52dabd82b",
   "metadata": {},
   "source": [
    "## Problema 2\n",
    "Al momento de analizar datos una práctica común es normalizar los datos. Esto es restar el valor de la media observada a cada dato y divirlo entre la desvación estándar observada. \n",
    "\n",
    "Crear las siguientes funciones: `media`, `desv_estandar` y `normalizar`. \n",
    "\n",
    "La primera función debe de calcular\n",
    "\n",
    "$$\n",
    "    \\hat\\mu = \\frac{1}{n}\\sum_{i=1}^n x_i\n",
    "$$\n",
    "\n",
    "donde $n$ es el número de registros que hay y $x_i$ son los datos.\n",
    "\n",
    "La segunda es\n",
    "\n",
    "$$\n",
    "    \\hat\\sigma = \\sqrt{\\frac{1}{n-1}\\sum_{i=1}^n (x_i-\\hat\\mu)^2}\n",
    "$$\n",
    "\n",
    "y por último \n",
    "\n",
    "$$\n",
    "\\textrm{norm}(\\vec x) = \\left(\\frac{x_1-\\hat\\mu}{\\hat\\sigma}, \\frac{x_2-\\hat\\mu}{\\hat\\sigma}, \\dots, \\frac{x_n-\\hat\\mu}{\\hat\\sigma}\\right)\n",
    "$$\n",
    "\n",
    "### Extra\n",
    "Tener cuidado cuando existan valores vacios en los datos, esto es cuando existan entradas con `None`."
   ]
  },
  {
   "cell_type": "code",
   "execution_count": null,
   "id": "57d2f96a-59c3-40bc-8f8c-80f42c1275a3",
   "metadata": {},
   "outputs": [],
   "source": [
    "# hw6003 NO BORRAR\n",
    "def media(x):\n",
    "    \"\"\" calcula la media de una conjunto de datos\n",
    "    \n",
    "    Parameters\n",
    "    ----------\n",
    "    x: list lista de valores numéricos\n",
    "    \n",
    "    Returns\n",
    "    -------\n",
    "    Number regresa la media muestral de los valores x\n",
    "    \"\"\"\"\n",
    "    pass"
   ]
  },
  {
   "cell_type": "code",
   "execution_count": null,
   "id": "55c0288a-e3c6-47ff-8881-03352228c7f4",
   "metadata": {},
   "outputs": [],
   "source": []
  },
  {
   "cell_type": "code",
   "execution_count": null,
   "id": "38e4d2e5-236a-408d-b6a6-eac3a3de63d3",
   "metadata": {},
   "outputs": [],
   "source": [
    "# hw6003 NO BORRAR\n",
    "def desv_estandar(x):\n",
    "    \"\"\" calcula la desviación estandar de un conjunto de datos\n",
    "    \n",
    "    Parameters\n",
    "    ----------\n",
    "    x: list lista de valores numéricos\n",
    "    \n",
    "    Returns\n",
    "    -------\n",
    "    Number resgresa la desviación estandar muestra de los valores x\n",
    "    \"\"\"\n",
    "    pass"
   ]
  },
  {
   "cell_type": "code",
   "execution_count": null,
   "id": "3c59e317-7f33-44f1-9ca9-240286e843bb",
   "metadata": {},
   "outputs": [],
   "source": []
  },
  {
   "cell_type": "code",
   "execution_count": null,
   "id": "8ea518db-2346-4cee-b06b-2aae682c19bd",
   "metadata": {},
   "outputs": [],
   "source": [
    "# hw6003 NO BORRAR\n",
    "def normalizar(x):\n",
    "    \"\"\" normaliza el conjunto de datos\n",
    "    \n",
    "    Parameters\n",
    "    ----------\n",
    "    x: list lista de valores numéricos\n",
    "    \n",
    "    Returns\n",
    "    -------\n",
    "    Number resgresa los datos normalizados\n",
    "    \"\"\"\n",
    "    pass"
   ]
  },
  {
   "cell_type": "code",
   "execution_count": null,
   "id": "a7218eb4-2db2-4de4-bc67-9bd8139f5784",
   "metadata": {},
   "outputs": [],
   "source": []
  },
  {
   "cell_type": "markdown",
   "id": "e598a487-ae6b-487e-9f7f-fe037b14b8ce",
   "metadata": {},
   "source": [
    "# Problema 3\n",
    "Muchas veces al hacer una transferencia bancaria tenemos miedo de teclear mal la CLABE de la cuenta a la que queremos hacer una transferencia, para esto hay un dígito que ayuda a verificar que no exista un error al momento de teclear la cuenta. \n",
    "\n",
    "La Clave Bancaria Estandarizada (CLABE)Clave Bancaria Estandarizada (CLABE) es un número de 18 cifras, con ceros enfrente si es necesario, los cuales corresponden a los siguientes:\n",
    "- 3 dígitos: Código de banco\n",
    "- 3 dígitos: Código de Plaza\n",
    "- 11 dígitos: Número de cuenta bancaria\n",
    "- 1 dígito: Dígito de control\n",
    "\n",
    "Este ejercio tiene como objetivo validar una cuenta CLABE. Para esto se deberán de crear 4 funciones, la primera validará que el número de banco sea correcto, la segunda validará que el número de plaza sea correcto, la tercera calculará el dígito validador de la cuenta y regresará la clabe y por último se debe de verificar que la CLABE sea válida.\n",
    "\n",
    "El cálculo del dígito verificador se puede consultar en [CLABE - Wikipedia](https://es.wikipedia.org/wiki/CLABE#D%C3%ADgito_controlhttps://es.wikipedia.org/wiki/CLABE#D%C3%ADgito_control)"
   ]
  },
  {
   "cell_type": "code",
   "execution_count": null,
   "id": "7b6c2dd8-c7e9-45bc-aebf-ba6a378b851d",
   "metadata": {},
   "outputs": [],
   "source": [
    "# hw6003 NO BORRAR\n",
    "def valida_banco(clabe):\n",
    "    \"\"\" valida que la clabe corresponda a un banco registrado\n",
    "    \n",
    "    Parameters\n",
    "    ----------\n",
    "    clabe: str clabe de 18 digitos\n",
    "    \n",
    "    Returns\n",
    "    -------\n",
    "    bool regresa True si la clabe tiene un banco válido, False si no\n",
    "    \"\"\"\n",
    "    bancos = {'002': 'BANAMEX', '006': 'BANCOMEXT', '009': 'BANOBRAS', '012': 'BBVA BANCOMER', '014': 'SANTANDER', '019': 'BANJERCITO', '021': 'HSBC', \n",
    "              '022': 'GE MONEY', '030': 'BAJÍO', '032': 'IXE', '036': 'INBURSA', '037': 'INTERACCIONES', '042': 'MIFEL', '044': 'SCOTIABANK', \n",
    "              '058': 'BANREGIO', '059': 'INVEX', '060': 'BANSI', '062': 'AFIRME', '072': 'BANORTE', '102': 'THE ROYAL BANK', '103': 'AMERICAN EXPRESS', \n",
    "              '106': 'BAMSA', '108': 'TOKYO', '110': 'JP MORGAN', '112': 'BMONEX', '113': 'VE POR MAS', '116': 'ING', '124': 'DEUTSCHE', \n",
    "              '126': 'CREDIT SUISSE', '127': 'AZTECA', '128': 'AUTOFIN', '129': 'BARCLAYS', '130': 'COMPARTAMOS', '131': 'FAMSA', '132': 'BMULTIVA', \n",
    "              '133': 'ACTINVER', '134': 'WAL-MART', '135': 'NAFIN', '136': 'INTERBANCO', '137': 'BANCOPPEL', '138': 'ABC CAPITAL', '139': 'UBS BANK', \n",
    "              '140': 'CONSUBANCO', '141': 'VOLKSWAGEN', '143': 'CIBanco', '145': 'BBASE', '147': 'BANKAOOL', '148': 'PagaTodo', '150': 'BIM', \n",
    "              '155': 'ICBC', '156': 'SABADELL', '166': 'BANSEFI', '168': 'HIPOTECARIA FEDERAL', '600': 'MONEXCB', '601': 'GBM', '602': 'MASARI CB', \n",
    "              '604': 'C.B. INBURSA', '605': 'VALUÉ', '606': 'ESTRUCTURADORES', '607': 'TIBER', '608': 'VECTOR', '610': 'B&B', '611': 'INTERCAM', \n",
    "              '613': 'MULTIVA', '614': 'ACCIVAL', '615': 'MERRILL LYNCH', '616': 'FINAMEX', '617': 'VALMEX', '618': 'ÚNICA', '619': 'MAPFRE', \n",
    "              '620': 'PROFUTURO', '621': 'CB ACTINBER', '622': 'OACTIN', '623': 'SKANDIA', '624': 'CONSULTORÍA', '626': 'CBDEUTSCHE', '627': 'ZURICH', \n",
    "              '628': 'ZURICHVI', '629': 'SU CASITA', '630': 'C.B. INTERCAM', '631': 'C.I. BOLSA', '632': 'BULLTICK C.B.', '633': 'STERLING', '634': 'FINCOMUN', \n",
    "              '636': 'HDI SEGUROS', '637': 'ORDER', '638': 'AKALA', '640': 'C.B. JP MORGAN', '642': 'REFORMA', '646': 'STP', '647': 'TELECOMM', '648': 'EVERCORE', \n",
    "              '649': 'SKANDIA', '651': 'SEGMTY', '652': 'ASEA', '653': 'KUSPIT', '655': 'SOFIEXPRESS', '656': 'UNAGRA', '659': 'OPCIONES EMPRESARIALES DEL NOROESTE', \n",
    "              '670': 'LIBERTAD', '674': 'AXA', '677': 'CAJA POP MEXICA', '679': 'FND', '684': 'TRANSFER', '901': 'CLS', '902': 'INDEVAL'}\n",
    "    pass"
   ]
  },
  {
   "cell_type": "code",
   "execution_count": null,
   "id": "66fdd63e-1786-4d35-a032-cd2a3c3e8c07",
   "metadata": {},
   "outputs": [],
   "source": []
  },
  {
   "cell_type": "code",
   "execution_count": null,
   "id": "1144149b-c055-480e-acc4-9ea4cc526e5d",
   "metadata": {},
   "outputs": [],
   "source": [
    "# hw6003 NO BORRAR\n",
    "def valida_plaza(clabe):\n",
    "    \"\"\" valida que la clabe corresponda a una plaza válida\n",
    "    \n",
    "    Parameters\n",
    "    ----------\n",
    "    clabe: str clabe de 18 digitos\n",
    "    \n",
    "    Returns\n",
    "    -------\n",
    "    bool regresa True si la clabe tiene una plaza válida, False si no\n",
    "    \"\"\"\n",
    "    plazas_validas = ['010', '012', '014', '020', '022', '027', '027', '028', '028', '028', '040', '041', '042', '043', '045', '046', '050', '051', '052', '053', \n",
    "                      '060', '060', '062', '068', '071', '072', '074', '075', '076', '077', '078', '080', '090', '095', '097', '100', '100', '103', '107', '109', \n",
    "                      '109', '111', '113', '114', '123', '124', '125', '126', '127', '128', '130', '131', '133', '135', '137', '138', '140', '150', '150', '152', \n",
    "                      '155', '158', '161', '162', '163', '164', '165', '167', '168', '180', '180', '180', '180', '180', '180', '180', '180', '180', '180', '180', \n",
    "                      '180', '180', '180', '180', '180', '180', '190', '201', '202', '210', '211', '212', '213', '214', '215', '216', '217', '218', '219', '220', \n",
    "                      '222', '223', '224', '225', '226', '227', '229', '232', '233', '234', '236', '237', '237', '238', '239', '240', '244', '247', '248', '249', \n",
    "                      '260', '261', '263', '264', '266', '267', '270', '271', '272', '272', '274', '274', '275', '276', '278', '281', '282', '282', '290', '291', \n",
    "                      '292', '293', '294', '294', '295', '296', '297', '298', '303', '305', '308', '311', '312', '313', '314', '320', '320', '320', '320', '320', \n",
    "                      '320', '326', '327', '330', '331', '333', '340', '341', '342', '346', '348', '355', '356', '357', '361', '362', '370', '373', '375', '375', \n",
    "                      '375', '375', '381', '384', '385', '386', '387', '389', '391', '396', '397', '403', '404', '411', '413', '414', '416', '420', '421', '422', \n",
    "                      '424', '425', '426', '428', '430', '431', '432', '433', '434', '435', '438', '441', '443', '445', '446', '448', '449', '450', '451', '453', \n",
    "                      '455', '456', '457', '460', '463', '470', '472', '476', '480', '483', '484', '492', '493', '494', '496', '497', '498', '499', '501', '506', \n",
    "                      '508', '509', '512', '515', '517', '519', '523', '528', '533', '534', '535', '536', '537', '540', '542', '542', '543', '544', '545', '546', \n",
    "                      '548', '549', '552', '560', '561', '562', '564', '566', '571', '573', '575', '580', '580', '580', '580', '580', '580', '580', '580', '583', \n",
    "                      '592', '595', '597', '599', '600', '601', '601', '610', '613', '614', '616', '617', '619', '620', '621', '622', '624', '626', '627', '628', \n",
    "                      '630', '631', '632', '634', '635', '636', '637', '638', '640', '650', '650', '650', '650', '652', '654', '656', '659', '662', '667', '668', \n",
    "                      '669', '670', '671', '672', '674', '676', '680', '680', '680', '681', '685', '686', '690', '691', '691', '692', '694', '700', '703', '705', \n",
    "                      '709', '711', '716', '730', '735', '736', '737', '738', '739', '740', '741', '743', '743', '744', '745', '746', '760', '761', '765', '766', \n",
    "                      '767', '767', '769', '770', '770', '771', '773', '776', '777', '778', '779', '780', '790', '790', '792', '793', '794', '796', '797', '798', \n",
    "                      '800', '802', '803', '804', '805', '806', '807', '810', '811', '813', '813', '814', '818', '821', '821', '822', '823', '825', '826', '830', \n",
    "                      '832', '834', '840', '841', '843', '845', '846', '848', '849', '852', '853', '854', '855', '856', '860', '863', '864', '865', '867', '868', \n",
    "                      '869', '871', '872', '873', '875', '876', '877', '878', '879', '882', '885', '886', '888', '889', '890', '891', '894', '894', '895', '898', \n",
    "                      '901', '903', '905', '905', '910', '913', '914', '915', '917', '918', '920', '930', '933', '934', '935', '936', '938', '939', '946', '958', '960']\n",
    "    pass"
   ]
  },
  {
   "cell_type": "code",
   "execution_count": null,
   "id": "1d35c746-7c4b-426d-8219-1a6c86bbb87f",
   "metadata": {},
   "outputs": [],
   "source": []
  },
  {
   "cell_type": "code",
   "execution_count": null,
   "id": "4a9a1cfa-2ad1-4bb5-aec6-8eb826d5b6a3",
   "metadata": {},
   "outputs": [],
   "source": [
    "# hw6003 NO BORRAR\n",
    "def calcula_clabe(banco, plaza, nu_cuenta):\n",
    "    \"\"\" regresa la clabe de una cuenta\n",
    "    \n",
    "    Parameters\n",
    "    ----------\n",
    "    banco: str clave de 3 dígitos para el banco\n",
    "    plaza: str clave de 3 dígitos para la plaza\n",
    "    nu_cuenta: str número de cuenta de 11 dígitos\n",
    "    \n",
    "    Returns\n",
    "    -------\n",
    "    str los 18 dígitos de la clabe para la cuenta\n",
    "    \"\"\"\n",
    "    pass"
   ]
  },
  {
   "cell_type": "code",
   "execution_count": null,
   "id": "cfa01364-9d22-4dbf-8ec5-b5879b92f3ec",
   "metadata": {},
   "outputs": [],
   "source": []
  },
  {
   "cell_type": "code",
   "execution_count": null,
   "id": "5b78c058-f95e-460e-8a8b-89717a5d2864",
   "metadata": {},
   "outputs": [],
   "source": [
    "# hw6003 NO BORRAR\n",
    "def valida_clabe(clabe)\n",
    "    \"\"\" valida la clabe proporcionada\n",
    "    \n",
    "    Parameters\n",
    "    ----------\n",
    "    clabe: str clabe de 18 dígitos\n",
    "    \n",
    "    Returns\n",
    "    -------\n",
    "    bool regresa True si la clabe es válida, False si no\n",
    "    \"\"\"\n",
    "    pass"
   ]
  },
  {
   "cell_type": "code",
   "execution_count": null,
   "id": "387633d2-e56f-4b3e-af9d-f2eef6c9c3bf",
   "metadata": {},
   "outputs": [],
   "source": []
  }
 ],
 "metadata": {
  "kernelspec": {
   "display_name": "Python 3 (ipykernel)",
   "language": "python",
   "name": "python3"
  },
  "language_info": {
   "codemirror_mode": {
    "name": "ipython",
    "version": 3
   },
   "file_extension": ".py",
   "mimetype": "text/x-python",
   "name": "python",
   "nbconvert_exporter": "python",
   "pygments_lexer": "ipython3",
   "version": "3.9.7"
  }
 },
 "nbformat": 4,
 "nbformat_minor": 5
}
